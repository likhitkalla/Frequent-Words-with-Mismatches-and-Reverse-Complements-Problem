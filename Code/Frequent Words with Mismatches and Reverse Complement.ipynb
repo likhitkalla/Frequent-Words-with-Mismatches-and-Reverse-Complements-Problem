{
 "cells": [
  {
   "cell_type": "markdown",
   "metadata": {},
   "source": [
    "# Frequent Words with Mismatches and Reverse Complements Problem"
   ]
  },
  {
   "cell_type": "code",
   "execution_count": 3,
   "metadata": {},
   "outputs": [
    {
     "name": "stdout",
     "output_type": "stream",
     "text": [
      "TCCCTT AAGGGA "
     ]
    }
   ],
   "source": [
    "from collections import defaultdict\n",
    "\n",
    "def HammingDistance(seq1,seq2):\n",
    "    d=0\n",
    "    for i in range(len(seq1)):\n",
    "        if seq1[i]!=seq2[i]:\n",
    "            d+=1;\n",
    "    return d\n",
    "\n",
    "def ReversePattern(pattern):\n",
    "    temp = pattern.replace(\"A\",\"X\").replace(\"T\",\"A\").replace(\"X\",\"T\")\n",
    "    return (temp.replace(\"G\",\"X\").replace(\"C\",\"G\").replace(\"X\",\"C\")[::-1]) \n",
    "    \n",
    "\n",
    "def neighbour(pattern,mismatch, words):\n",
    "    if mismatch == 0:\n",
    "        words.add(pattern)\n",
    "    else:\n",
    "        bases = ['A', 'T', 'C', 'G']\n",
    "        for i in range(len(pattern)):\n",
    "            for j in range(len(bases)):\n",
    "                new_pattern = pattern[:i] + bases[j] + pattern[i+1:]\n",
    "                if mismatch <= 1:\n",
    "                    words.add(new_pattern)\n",
    "                else:\n",
    "                    neighbour(new_pattern, mismatch-1, words)\n",
    "\n",
    "def FindMostFrequentPattern(text, k, d):\n",
    "    allfrequentwords = defaultdict(int)\n",
    "    for i in range(len(text) - k + 1):\n",
    "        frequentwords = set()\n",
    "        neighbour(text[i:i + k], d, frequentwords)\n",
    "\n",
    "        for words in frequentwords:\n",
    "            allfrequentwords[words] += 1\n",
    "\n",
    "    for t in allfrequentwords.keys():\n",
    "        reverse_k = ReversePattern(t)\n",
    "        for i in range(len(text) - k + 1):\n",
    "            if HammingDistance(text[i:i + k], reverse_k) <= d:\n",
    "                allfrequentwords[t] += 1\n",
    "\n",
    "    result = set()\n",
    "    for t in allfrequentwords.keys():\n",
    "        if allfrequentwords[t] == max(allfrequentwords.values()):\n",
    "            result.add(t)\n",
    "            result.add(ReversePattern(t))\n",
    "    for i in result:\n",
    "        print(i, end=\" \")\n",
    "        \n",
    "in_file = open('rosalind_ba1j.txt', 'r')\n",
    "text = in_file.readline().strip()\n",
    "k, d = map(int, in_file.readline().strip().split())\n",
    "FindMostFrequentPattern(text, k, d)"
   ]
  },
  {
   "cell_type": "code",
   "execution_count": null,
   "metadata": {},
   "outputs": [],
   "source": []
  }
 ],
 "metadata": {
  "kernelspec": {
   "display_name": "Python 3",
   "language": "python",
   "name": "python3"
  },
  "language_info": {
   "codemirror_mode": {
    "name": "ipython",
    "version": 3
   },
   "file_extension": ".py",
   "mimetype": "text/x-python",
   "name": "python",
   "nbconvert_exporter": "python",
   "pygments_lexer": "ipython3",
   "version": "3.8.5"
  }
 },
 "nbformat": 4,
 "nbformat_minor": 4
}
